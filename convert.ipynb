{
 "cells": [
  {
   "cell_type": "code",
   "execution_count": 54,
   "metadata": {
    "collapsed": false,
    "deletable": true,
    "editable": true
   },
   "outputs": [],
   "source": [
    "import csv\n",
    "import glob\n",
    "import os\n",
    "\n",
    "districts = ['northern-il','eastern-mo','maryland']\n",
    "\n",
    "for directory in districts:\n",
    "    txt_files = os.path.join(directory, '*.txt')\n",
    "    output = directory+'/csv'\n",
    "\n",
    "    for txt_file in glob.glob(txt_files):\n",
    "        with open(txt_file, \"rb\") as input_file:\n",
    "            in_txt = csv.reader(input_file, delimiter='|')\n",
    "            filename = os.path.splitext(os.path.basename(txt_file))[0] + '.csv'\n",
    "\n",
    "            with open(os.path.join(output, filename), 'wb') as output_file:\n",
    "                out_csv = csv.writer(output_file)\n",
    "                out_csv.writerows(in_txt)"
   ]
  }
 ],
 "metadata": {
  "kernelspec": {
   "display_name": "Python 2",
   "language": "python",
   "name": "python2"
  },
  "language_info": {
   "codemirror_mode": {
    "name": "ipython",
    "version": 2
   },
   "file_extension": ".py",
   "mimetype": "text/x-python",
   "name": "python",
   "nbconvert_exporter": "python",
   "pygments_lexer": "ipython2",
   "version": "2.7.5"
  }
 },
 "nbformat": 4,
 "nbformat_minor": 0
}
